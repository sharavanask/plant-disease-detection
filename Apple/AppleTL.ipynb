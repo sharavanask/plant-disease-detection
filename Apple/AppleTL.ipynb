{
  "cells": [
    {
      "cell_type": "code",
      "execution_count": 45,
      "metadata": {
        "colab": {
          "base_uri": "https://localhost:8080/"
        },
        "id": "5TH48d9-wmrY",
        "outputId": "da0a354a-c84e-43f9-afb9-50afa173a3b2"
      },
      "outputs": [
        {
          "output_type": "stream",
          "name": "stdout",
          "text": [
            "Drive already mounted at /content/drive; to attempt to forcibly remount, call drive.mount(\"/content/drive\", force_remount=True).\n"
          ]
        }
      ],
      "source": [
        "from google.colab import drive\n",
        "drive.mount('/content/drive')"
      ]
    },
    {
      "cell_type": "code",
      "execution_count": 46,
      "metadata": {
        "id": "N5Mc7BkrwwJ7"
      },
      "outputs": [],
      "source": [
        "import tensorflow as tf"
      ]
    },
    {
      "cell_type": "code",
      "execution_count": 47,
      "metadata": {
        "id": "dBw910_6w_ev"
      },
      "outputs": [],
      "source": [
        "import tensorflow.keras as K"
      ]
    },
    {
      "cell_type": "code",
      "execution_count": 48,
      "metadata": {
        "id": "EdoUjQhjxEjb"
      },
      "outputs": [],
      "source": [
        "from tensorflow.keras import layers,models,Model"
      ]
    },
    {
      "cell_type": "code",
      "execution_count": 49,
      "metadata": {
        "id": "zbFMhZmFxXo5"
      },
      "outputs": [],
      "source": [
        "train_dir='/content/drive/MyDrive/plantdata/train'\n",
        "test_dir='/content/drive/MyDrive/plantdata/test'\n",
        "val_dir='/content/drive/MyDrive/plantdata/val'"
      ]
    },
    {
      "cell_type": "code",
      "execution_count": 64,
      "metadata": {
        "id": "1EOkIX5-xp33",
        "colab": {
          "base_uri": "https://localhost:8080/"
        },
        "outputId": "4cf39b0f-8436-4202-dab5-8b1d08562229"
      },
      "outputs": [
        {
          "output_type": "stream",
          "name": "stdout",
          "text": [
            "Found 3251 files belonging to 4 classes.\n",
            "Found 697 files belonging to 4 classes.\n",
            "Found 697 files belonging to 4 classes.\n"
          ]
        }
      ],
      "source": [
        "img_size = (32,32)\n",
        "batch_size = 16\n",
        "\n",
        "train_dataset = tf.keras.utils.image_dataset_from_directory(\n",
        "    train_dir,\n",
        "    labels=\"inferred\",\n",
        "    label_mode=\"int\",\n",
        "    image_size=img_size,\n",
        "    batch_size=batch_size,\n",
        "    shuffle=True\n",
        ")\n",
        "test_dataset=tf.keras.utils.image_dataset_from_directory(\n",
        "    test_dir,\n",
        "    labels=\"inferred\",\n",
        "    label_mode=\"int\",\n",
        "    image_size=img_size,\n",
        "    batch_size=batch_size,\n",
        "    shuffle=True\n",
        ")\n",
        "val_dataset = tf.keras.preprocessing.image_dataset_from_directory(\n",
        "    val_dir,\n",
        "    image_size=img_size,\n",
        "    batch_size=batch_size,\n",
        "    label_mode='int',\n",
        "    shuffle=False\n",
        ")\n",
        "\n"
      ]
    },
    {
      "cell_type": "code",
      "execution_count": 65,
      "metadata": {
        "id": "xrCh_xhqyJIq"
      },
      "outputs": [],
      "source": [
        "normalization_layer=tf.keras.layers.Rescaling(1./255)"
      ]
    },
    {
      "cell_type": "code",
      "execution_count": 66,
      "metadata": {
        "id": "FU6lR20WyaWi"
      },
      "outputs": [],
      "source": [
        "train_dataset=train_dataset.map(lambda x,y:(normalization_layer(x),y))\n",
        "test_dataset=test_dataset.map(lambda x,y:(normalization_layer(x),y))\n",
        "val_dataset=val_dataset.map(lambda x,y:(normalization_layer(x),y))"
      ]
    },
    {
      "cell_type": "code",
      "execution_count": 68,
      "metadata": {
        "id": "ujej0h-Cy-_c"
      },
      "outputs": [],
      "source": [
        "base_model = tf.keras.applications.ResNet152(weights = 'imagenet', include_top = False, input_shape = (32,32,3))\n",
        "for layer in base_model.layers:\n",
        "  layer.trainable = False"
      ]
    },
    {
      "cell_type": "code",
      "execution_count": 54,
      "metadata": {
        "id": "9xKp0YwPzwNB"
      },
      "outputs": [],
      "source": [
        "x=layers.Flatten()(base_model.output)\n",
        "x=layers.Dense(128, activation='relu')(x)\n",
        "x=layers.Dropout(0.5)(x)\n",
        "predictions=layers.Dense(4, activation='softmax')(x)"
      ]
    },
    {
      "cell_type": "code",
      "execution_count": 55,
      "metadata": {
        "id": "pI0_-BOd0C26"
      },
      "outputs": [],
      "source": [
        "head_model = Model(inputs = base_model.input, outputs = predictions)\n",
        "head_model.compile(\n",
        "    optimizer='adam',\n",
        "    loss='sparse_categorical_crossentropy',\n",
        "    metrics=['accuracy'])"
      ]
    },
    {
      "cell_type": "code",
      "source": [
        "history=head_model.fit(\n",
        "    train_dataset,\n",
        "    validation_data=val_dataset,\n",
        "    epochs=10\n",
        "    )"
      ],
      "metadata": {
        "colab": {
          "base_uri": "https://localhost:8080/"
        },
        "id": "9aL359XaE5ep",
        "outputId": "4d21d659-e0c6-43c6-cb58-0df9afbdba84"
      },
      "execution_count": 85,
      "outputs": [
        {
          "output_type": "stream",
          "name": "stdout",
          "text": [
            "Epoch 1/10\n",
            "\u001b[1m204/204\u001b[0m \u001b[32m━━━━━━━━━━━━━━━━━━━━\u001b[0m\u001b[37m\u001b[0m \u001b[1m82s\u001b[0m 403ms/step - accuracy: 0.9942 - loss: 0.0372 - val_accuracy: 0.8867 - val_loss: 1.0093\n",
            "Epoch 2/10\n",
            "\u001b[1m204/204\u001b[0m \u001b[32m━━━━━━━━━━━━━━━━━━━━\u001b[0m\u001b[37m\u001b[0m \u001b[1m141s\u001b[0m 400ms/step - accuracy: 0.9858 - loss: 0.0907 - val_accuracy: 0.9957 - val_loss: 0.0292\n",
            "Epoch 3/10\n",
            "\u001b[1m204/204\u001b[0m \u001b[32m━━━━━━━━━━━━━━━━━━━━\u001b[0m\u001b[37m\u001b[0m \u001b[1m82s\u001b[0m 404ms/step - accuracy: 0.9808 - loss: 0.0920 - val_accuracy: 0.9799 - val_loss: 0.0706\n",
            "Epoch 4/10\n",
            "\u001b[1m204/204\u001b[0m \u001b[32m━━━━━━━━━━━━━━━━━━━━\u001b[0m\u001b[37m\u001b[0m \u001b[1m82s\u001b[0m 403ms/step - accuracy: 0.9889 - loss: 0.0382 - val_accuracy: 0.9785 - val_loss: 0.0682\n",
            "Epoch 5/10\n",
            "\u001b[1m204/204\u001b[0m \u001b[32m━━━━━━━━━━━━━━━━━━━━\u001b[0m\u001b[37m\u001b[0m \u001b[1m82s\u001b[0m 401ms/step - accuracy: 0.9884 - loss: 0.0447 - val_accuracy: 0.9885 - val_loss: 0.0674\n",
            "Epoch 6/10\n",
            "\u001b[1m204/204\u001b[0m \u001b[32m━━━━━━━━━━━━━━━━━━━━\u001b[0m\u001b[37m\u001b[0m \u001b[1m82s\u001b[0m 402ms/step - accuracy: 0.9962 - loss: 0.0167 - val_accuracy: 0.9570 - val_loss: 0.1717\n",
            "Epoch 7/10\n",
            "\u001b[1m204/204\u001b[0m \u001b[32m━━━━━━━━━━━━━━━━━━━━\u001b[0m\u001b[37m\u001b[0m \u001b[1m141s\u001b[0m 400ms/step - accuracy: 0.9827 - loss: 0.0632 - val_accuracy: 0.9742 - val_loss: 0.0872\n",
            "Epoch 8/10\n",
            "\u001b[1m204/204\u001b[0m \u001b[32m━━━━━━━━━━━━━━━━━━━━\u001b[0m\u001b[37m\u001b[0m \u001b[1m82s\u001b[0m 401ms/step - accuracy: 0.9797 - loss: 0.0648 - val_accuracy: 0.9871 - val_loss: 0.1360\n",
            "Epoch 9/10\n",
            "\u001b[1m204/204\u001b[0m \u001b[32m━━━━━━━━━━━━━━━━━━━━\u001b[0m\u001b[37m\u001b[0m \u001b[1m81s\u001b[0m 399ms/step - accuracy: 0.9905 - loss: 0.0412 - val_accuracy: 0.9943 - val_loss: 0.0134\n",
            "Epoch 10/10\n",
            "\u001b[1m204/204\u001b[0m \u001b[32m━━━━━━━━━━━━━━━━━━━━\u001b[0m\u001b[37m\u001b[0m \u001b[1m81s\u001b[0m 399ms/step - accuracy: 0.9950 - loss: 0.0155 - val_accuracy: 0.9713 - val_loss: 0.1230\n"
          ]
        }
      ]
    },
    {
      "cell_type": "code",
      "source": [
        "print(head_model.evaluate(test_dataset))"
      ],
      "metadata": {
        "colab": {
          "base_uri": "https://localhost:8080/"
        },
        "id": "0gLtRIlFYDNQ",
        "outputId": "e0f730c4-6e8a-4405-8aec-1699f44b7bf5"
      },
      "execution_count": 86,
      "outputs": [
        {
          "output_type": "stream",
          "name": "stdout",
          "text": [
            "\u001b[1m44/44\u001b[0m \u001b[32m━━━━━━━━━━━━━━━━━━━━\u001b[0m\u001b[37m\u001b[0m \u001b[1m5s\u001b[0m 116ms/step - accuracy: 0.9795 - loss: 0.0518\n",
            "[0.06972457468509674, 0.9756097793579102]\n"
          ]
        }
      ]
    },
    {
      "cell_type": "code",
      "source": [
        "print(head_model.evaluate(val_dataset))\n"
      ],
      "metadata": {
        "colab": {
          "base_uri": "https://localhost:8080/"
        },
        "id": "JWeUKX3ggKac",
        "outputId": "880d5aee-63a4-47d0-a593-87d850b1ba2d"
      },
      "execution_count": 87,
      "outputs": [
        {
          "output_type": "stream",
          "name": "stdout",
          "text": [
            "\u001b[1m44/44\u001b[0m \u001b[32m━━━━━━━━━━━━━━━━━━━━\u001b[0m\u001b[37m\u001b[0m \u001b[1m5s\u001b[0m 115ms/step - accuracy: 0.9848 - loss: 0.0720\n",
            "[0.12302979826927185, 0.9713056087493896]\n"
          ]
        }
      ]
    },
    {
      "cell_type": "code",
      "source": [
        "from tensorflow.keras.preprocessing import image\n",
        "import numpy as np\n",
        "\n",
        "# Define the class names based on your directory structure\n",
        "class_names = ['Apple___Apple_scab', 'Apple___Black_rot', 'Apple___Cedar_apple_rust', 'Apple___healthy']\n",
        "\n",
        "def predict_image(image_path, model):\n",
        "    # Load and preprocess the image\n",
        "    img = image.load_img(image_path, target_size=(224, 224))\n",
        "    img_array = image.img_to_array(img)\n",
        "    img_array = np.expand_dims(img_array, axis=0)  # Add batch dimension\n",
        "    img_array = img_array / 255.0  # Normalize\n",
        "\n",
        "    # Make prediction\n",
        "    predictions = model.predict(img_array)\n",
        "    predicted_class_idx = np.argmax(predictions, axis=-1)[0]\n",
        "    predicted_class = class_names[predicted_class_idx]\n",
        "    confidence = np.max(predictions)\n",
        "\n",
        "    return predicted_class, confidence\n",
        "\n",
        "# Example prediction\n",
        "image_path = '2.JPG'  # Replace with the path to your image\n",
        "predicted_class, confidence = predict_image(image_path, head_model)\n",
        "print(f\"Predicted Class: {predicted_class}, Confidence: {confidence:.2f}\")"
      ],
      "metadata": {
        "colab": {
          "base_uri": "https://localhost:8080/"
        },
        "id": "QeFHbupEgUcx",
        "outputId": "4ca6eed6-d2ca-4972-bf22-d403f17f46d1"
      },
      "execution_count": 91,
      "outputs": [
        {
          "output_type": "stream",
          "name": "stdout",
          "text": [
            "\u001b[1m1/1\u001b[0m \u001b[32m━━━━━━━━━━━━━━━━━━━━\u001b[0m\u001b[37m\u001b[0m \u001b[1m0s\u001b[0m 47ms/step\n",
            "Predicted Class: Apple___healthy, Confidence: 1.00\n"
          ]
        }
      ]
    },
    {
      "cell_type": "code",
      "source": [
        "head_model.save('/content/drive/My Drive/plantdata/appletl.h5')"
      ],
      "metadata": {
        "colab": {
          "base_uri": "https://localhost:8080/"
        },
        "id": "DYO2nXgShN3z",
        "outputId": "13516b91-9ce8-4cc9-d4c3-39a1e3b025a3"
      },
      "execution_count": 92,
      "outputs": [
        {
          "output_type": "stream",
          "name": "stderr",
          "text": [
            "WARNING:absl:You are saving your model as an HDF5 file via `model.save()` or `keras.saving.save_model(model)`. This file format is considered legacy. We recommend using instead the native Keras format, e.g. `model.save('my_model.keras')` or `keras.saving.save_model(model, 'my_model.keras')`. \n"
          ]
        }
      ]
    }
  ],
  "metadata": {
    "accelerator": "GPU",
    "colab": {
      "gpuType": "T4",
      "provenance": []
    },
    "kernelspec": {
      "display_name": "Python 3",
      "name": "python3"
    },
    "language_info": {
      "name": "python"
    }
  },
  "nbformat": 4,
  "nbformat_minor": 0
}